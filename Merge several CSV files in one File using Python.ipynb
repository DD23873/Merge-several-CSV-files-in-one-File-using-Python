{
 "cells": [
  {
   "cell_type": "code",
   "execution_count": 1,
   "metadata": {},
   "outputs": [],
   "source": [
    "import pandas as pd\n",
    "import os"
   ]
  },
  {
   "cell_type": "markdown",
   "metadata": {},
   "source": [
    "#### To Check all Files in Output Folder\n",
    "header=None\n",
    "If column names are passed explicitly then the behavior is identical to header=None. Explicitly pass header=0 to be able to replace existing names.\n",
    "\n",
    "index_col=0\n",
    "0\n",
    "\n",
    "Index_col indicates what column of the csv to use as the indexes (row labels) of the dataframe. for example:\n",
    "If index_col is 0, in this case it means that \"1\" will be the index of the first column, \"2\" will be the index for the second column and so on."
   ]
  },
  {
   "cell_type": "code",
   "execution_count": 2,
   "metadata": {},
   "outputs": [
    {
     "data": {
      "text/html": [
       "<div>\n",
       "<style scoped>\n",
       "    .dataframe tbody tr th:only-of-type {\n",
       "        vertical-align: middle;\n",
       "    }\n",
       "\n",
       "    .dataframe tbody tr th {\n",
       "        vertical-align: top;\n",
       "    }\n",
       "\n",
       "    .dataframe thead th {\n",
       "        text-align: right;\n",
       "    }\n",
       "</style>\n",
       "<table border=\"1\" class=\"dataframe\">\n",
       "  <thead>\n",
       "    <tr style=\"text-align: right;\">\n",
       "      <th></th>\n",
       "      <th>1</th>\n",
       "    </tr>\n",
       "    <tr>\n",
       "      <th>0</th>\n",
       "      <th></th>\n",
       "    </tr>\n",
       "  </thead>\n",
       "  <tbody>\n",
       "    <tr>\n",
       "      <th>PZPerfuserJune100018qasubway.com</th>\n",
       "      <td>eyJ0eXAiOiJKV1QiLCJhbGciOiJSUzI1NiIsImtpZCI6Im...</td>\n",
       "    </tr>\n",
       "    <tr>\n",
       "      <th>PZPerfuserJune100006qasubway.com</th>\n",
       "      <td>eyJ0eXAiOiJKV1QiLCJhbGciOiJSUzI1NiIsImtpZCI6Im...</td>\n",
       "    </tr>\n",
       "    <tr>\n",
       "      <th>PZPerfuserJune100030qasubway.com</th>\n",
       "      <td>eyJ0eXAiOiJKV1QiLCJhbGciOiJSUzI1NiIsImtpZCI6Im...</td>\n",
       "    </tr>\n",
       "    <tr>\n",
       "      <th>PZPerfuserJune100042qasubway.com</th>\n",
       "      <td>eyJ0eXAiOiJKV1QiLCJhbGciOiJSUzI1NiIsImtpZCI6Im...</td>\n",
       "    </tr>\n",
       "    <tr>\n",
       "      <th>PZPerfuserJune100054qasubway.com</th>\n",
       "      <td>eyJ0eXAiOiJKV1QiLCJhbGciOiJSUzI1NiIsImtpZCI6Im...</td>\n",
       "    </tr>\n",
       "  </tbody>\n",
       "</table>\n",
       "</div>"
      ],
      "text/plain": [
       "                                                                                  1\n",
       "0                                                                                  \n",
       "PZPerfuserJune100018qasubway.com  eyJ0eXAiOiJKV1QiLCJhbGciOiJSUzI1NiIsImtpZCI6Im...\n",
       "PZPerfuserJune100006qasubway.com  eyJ0eXAiOiJKV1QiLCJhbGciOiJSUzI1NiIsImtpZCI6Im...\n",
       "PZPerfuserJune100030qasubway.com  eyJ0eXAiOiJKV1QiLCJhbGciOiJSUzI1NiIsImtpZCI6Im...\n",
       "PZPerfuserJune100042qasubway.com  eyJ0eXAiOiJKV1QiLCJhbGciOiJSUzI1NiIsImtpZCI6Im...\n",
       "PZPerfuserJune100054qasubway.com  eyJ0eXAiOiJKV1QiLCJhbGciOiJSUzI1NiIsImtpZCI6Im..."
      ]
     },
     "execution_count": 2,
     "metadata": {},
     "output_type": "execute_result"
    }
   ],
   "source": [
    "df = pd.read_csv(\"C:/Users/debdhar/Downloads/output/merrill_watsica.creatingtokens.csv\",header=None,index_col=0)\n",
    "df.head()"
   ]
  },
  {
   "cell_type": "code",
   "execution_count": 3,
   "metadata": {},
   "outputs": [
    {
     "name": "stdout",
     "output_type": "stream",
     "text": [
      "devin_zulauf.after-test.log.gz\n",
      "devin_zulauf.creatingtokens.csv\n",
      "devin_zulauf.creatingtokens.csv.gz\n",
      "devin_zulauf.log.gz\n",
      "leonardo_ruecker.after-test.log.gz\n",
      "leonardo_ruecker.creatingtokens.csv\n",
      "leonardo_ruecker.creatingtokens.csv.gz\n",
      "leonardo_ruecker.log.gz\n",
      "merrill_watsica.after-test.log.gz\n",
      "merrill_watsica.creatingtokens.csv\n",
      "merrill_watsica.creatingtokens.csv.gz\n",
      "merrill_watsica.log.gz\n"
     ]
    }
   ],
   "source": [
    "files = [file for file in os.listdir('C:/Users/debdhar/Downloads/output')]\n",
    "\n",
    "for file in files:\n",
    "    print(file)"
   ]
  },
  {
   "cell_type": "code",
   "execution_count": 7,
   "metadata": {},
   "outputs": [
    {
     "ename": "IndentationError",
     "evalue": "unindent does not match any outer indentation level (<tokenize>, line 6)",
     "output_type": "error",
     "traceback": [
      "\u001b[1;36m  File \u001b[1;32m\"<tokenize>\"\u001b[1;36m, line \u001b[1;32m6\u001b[0m\n\u001b[1;33m    while True:\u001b[0m\n\u001b[1;37m    ^\u001b[0m\n\u001b[1;31mIndentationError\u001b[0m\u001b[1;31m:\u001b[0m unindent does not match any outer indentation level\n"
     ]
    }
   ],
   "source": [
    "import gzip\n",
    "\n",
    "def gunzip(\"C:/Users/debdhar/Downloads/output/karl_stiedemann.creatingtokens.csv.gz\", \"C:/Users/debdhar/Downloads/output/karl_stiedemann.creatingtokens.csv\", block_size=65536):\n",
    "    with gzip.open('C:/Users/debdhar/Downloads/output/karl_stiedemann.creatingtokens.csv.gz', 'rb') as s_file, \n",
    "            open('C:/Users/debdhar/Downloads/output/karl_stiedemann.creatingtokens.csv', 'wb') as d_file:\n",
    "        while True:\n",
    "            block = s_file.read(block_size)\n",
    "            if not block:\n",
    "                break\n",
    "            else:\n",
    "                d_file.write(block)"
   ]
  },
  {
   "cell_type": "markdown",
   "metadata": {},
   "source": [
    "# To Merge those CSV files in one CSV File"
   ]
  },
  {
   "cell_type": "code",
   "execution_count": 6,
   "metadata": {},
   "outputs": [],
   "source": [
    "df = pd.read_csv(\"C:/Users/debdhar/Downloads/output/merrill_watsica.creatingtokens.csv\",header=None) \n",
    "\n",
    "files = [file for file in os.listdir('C:/Users/debdhar/Downloads/output')]\n",
    "all_months_data = pd.DataFrame()\n",
    "\n",
    "for file in files:\n",
    "   df = pd.read_csv(\"C:/Users/debdhar/Downloads/output/leonardo_ruecker.creatingtokens.csv\",header=None)\n",
    "   df1 = pd.read_csv(\"C:/Users/debdhar/Downloads/output/devin_zulauf.creatingtokens.csv\",header=None)\n",
    "   df2 = pd.read_csv(\"C:/Users/debdhar/Downloads/output/merrill_watsica.creatingtokens.csv\",header=None)\n",
    "   all_months_data = pd.concat([df, df1, df2])\n",
    "\n",
    "all_months_data.head()\n",
    "all_months_data.to_csv(\"C:/Users/debdhar/Downloads/tokens.csv\",header=None, index=False)\n",
    "all_data = pd.read_csv(\"C:/Users/debdhar/Downloads/tokens.csv\")"
   ]
  },
  {
   "cell_type": "code",
   "execution_count": null,
   "metadata": {},
   "outputs": [],
   "source": []
  },
  {
   "cell_type": "code",
   "execution_count": null,
   "metadata": {},
   "outputs": [],
   "source": []
  },
  {
   "cell_type": "code",
   "execution_count": null,
   "metadata": {},
   "outputs": [],
   "source": []
  }
 ],
 "metadata": {
  "kernelspec": {
   "display_name": "Python 3",
   "language": "python",
   "name": "python3"
  },
  "language_info": {
   "codemirror_mode": {
    "name": "ipython",
    "version": 3
   },
   "file_extension": ".py",
   "mimetype": "text/x-python",
   "name": "python",
   "nbconvert_exporter": "python",
   "pygments_lexer": "ipython3",
   "version": "3.6.4"
  }
 },
 "nbformat": 4,
 "nbformat_minor": 2
}
